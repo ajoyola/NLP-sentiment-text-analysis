{
  "nbformat": 4,
  "nbformat_minor": 0,
  "metadata": {
    "colab": {
      "name": "Assignment1.ipynb",
      "provenance": [],
      "collapsed_sections": []
    },
    "kernelspec": {
      "display_name": "Python 3",
      "language": "python",
      "name": "python3"
    },
    "language_info": {
      "codemirror_mode": {
        "name": "ipython",
        "version": 3
      },
      "file_extension": ".py",
      "mimetype": "text/x-python",
      "name": "python",
      "nbconvert_exporter": "python",
      "pygments_lexer": "ipython3",
      "version": "3.7.5"
    }
  },
  "cells": [
    {
      "cell_type": "markdown",
      "metadata": {
        "id": "CnHoYqQS5eV1"
      },
      "source": [
        "# Intro\n",
        "In this assignement you will see a little example about\n",
        "*   How to download a dataset\n",
        "*   How to load it into dataframes\n",
        "*   How to use extract basic features from the corpus\n",
        "*   How to train a classifier on those features\n",
        "\n",
        "You are advised to look at the code and understand it.\n",
        "\n",
        "You will be then asked to perform feature extraction and classification yourself.\n",
        "\n",
        "The task that will be addressed is document classification, specifically tasks related to sentiment classification.\n"
      ]
    },
    {
      "cell_type": "markdown",
      "metadata": {
        "id": "ARCKuf1S5GKg"
      },
      "source": [
        "# Document Classification Tutorial"
      ]
    },
    {
      "cell_type": "markdown",
      "metadata": {
        "id": "F8aVUWrD3LeW"
      },
      "source": [
        "## Preliminary Steps\n",
        "These are some preliminary steps before addressing the task.\n",
        "Import some basic libraries and set a variable that will be used in multiple steps."
      ]
    },
    {
      "cell_type": "code",
      "metadata": {
        "id": "of3D92OeWV8_"
      },
      "source": [
        "# The libraries we will use are imported here, in case of runtime problems\n",
        "import os, shutil  #  file management\n",
        "import sys\n",
        "import pandas as pd  #  dataframe management\n",
        "import numpy as np  #  data manipulation"
      ],
      "execution_count": 3,
      "outputs": []
    },
    {
      "cell_type": "code",
      "metadata": {
        "id": "AgXmCToDOAbQ"
      },
      "source": [
        "dataset_name = \"aclImdb\""
      ],
      "execution_count": 4,
      "outputs": []
    },
    {
      "cell_type": "markdown",
      "metadata": {
        "id": "LCjPTD4a6uTb"
      },
      "source": [
        "CHANGED: If it is necessary, clean all the data that are in the DATASETS directory and wipe out all the subdirectories.\n",
        "\n",
        "IMPORTANT: DO NOT RUN THIS SECTION UNLESS YOU NEED IT.\n"
      ]
    },
    {
      "cell_type": "code",
      "metadata": {
        "id": "iSbT57Bo6wkV"
      },
      "source": [
        "folder = os.getcwd()\n",
        "\n",
        "print(\"Current work directory: \" + str(folder))\n",
        "\n",
        "dataset_folder = os.path.join(os.getcwd(), \"Datasets\")\n",
        "\n",
        "for filename in os.listdir(dataset_folder):\n",
        "    file_path = os.path.join(dataset_folder, filename)\n",
        "    try:\n",
        "        if os.path.isfile(file_path) or os.path.islink(file_path):\n",
        "            os.unlink(file_path)\n",
        "        elif os.path.isdir(file_path):\n",
        "            shutil.rmtree(file_path)\n",
        "    except Exception as e:\n",
        "        print('Failed to delete %s. Reason: %s' % (file_path, e))\n",
        "\n",
        "print(\"Cleaned\")"
      ],
      "execution_count": null,
      "outputs": []
    },
    {
      "cell_type": "markdown",
      "metadata": {
        "id": "d--rS8W95i62"
      },
      "source": [
        "## Dataset Download\n",
        "Dowload the Imdb movie reviews dataset\n"
      ]
    },
    {
      "cell_type": "code",
      "metadata": {
        "id": "aLNJIfZg4_d9",
        "outputId": "c05caa1f-4381-4525-bb80-7ca6a0efa56e",
        "colab": {
          "base_uri": "https://localhost:8080/",
          "height": 35
        }
      },
      "source": [
        "import urllib.request  #  download files\n",
        "import tarfile  #  unzip files\n",
        "\n",
        "dataset_folder = os.path.join(os.getcwd(), \"Datasets\", \"Original\")\n",
        "\n",
        "if not os.path.exists(dataset_folder):\n",
        "    os.makedirs(dataset_folder)\n",
        "\n",
        "url = 'http://ai.stanford.edu/~amaas/data/sentiment/aclImdb_v1.tar.gz'\n",
        "\n",
        "dataset_path = os.path.join(dataset_folder, \"Movies.tar.gz\")\n",
        "\n",
        "if not os.path.exists(dataset_path):\n",
        "    urllib.request.urlretrieve(url, dataset_path)\n",
        "    print(\"Successful download\")\n",
        "\n",
        "tar = tarfile.open(dataset_path)\n",
        "tar.extractall(dataset_folder)\n",
        "tar.close()\n",
        "print(\"Successful extraction\")"
      ],
      "execution_count": 5,
      "outputs": [
        {
          "output_type": "stream",
          "text": [
            "Successful extraction\n"
          ],
          "name": "stdout"
        }
      ]
    },
    {
      "cell_type": "markdown",
      "metadata": {
        "id": "I3f93BOW3ziB"
      },
      "source": [
        "Look at the files you have downloaded to understand the structure of the dataset."
      ]
    },
    {
      "cell_type": "markdown",
      "metadata": {
        "id": "-FexYdgu87Q3"
      },
      "source": [
        "## Create the dataframe\n",
        "Now the dataset is loaded into a dataframe to be more accessible.\n",
        "During the creation some data will be printed as an example."
      ]
    },
    {
      "cell_type": "code",
      "metadata": {
        "id": "4u8aN92x9Aw1",
        "outputId": "7a502e3c-b793-4f8e-9dec-db45ce76977e",
        "colab": {
          "base_uri": "https://localhost:8080/",
          "height": 176
        }
      },
      "source": [
        "dataset_name = \"aclImdb\"\n",
        "\n",
        "debug = True\n",
        "\n",
        "dataframe_rows = []\n",
        "\n",
        "for split in ['train', 'test']:\n",
        "    for sentiment in ['pos', 'neg']:\n",
        "        folder = os.path.join(os.getcwd(), \"Datasets\", \"Original\", dataset_name, split, sentiment)\n",
        "        for filename in os.listdir(folder):\n",
        "            file_path = os.path.join(folder, filename)\n",
        "            try:\n",
        "                if os.path.isfile(file_path):\n",
        "                    # open the file\n",
        "                    with open(file_path, mode='r', encoding='utf-8') as text_file:\n",
        "                        # read it and extract informations\n",
        "                        text = text_file.read()\n",
        "                        score = filename.split(\"_\")[1].split(\".\")[0]\n",
        "                        file_id = filename.split(\"_\")[0]\n",
        "\n",
        "                        num_sentiment = -1\n",
        "\n",
        "                        if sentiment == \"pos\" : num_sentiment = 1\n",
        "                        elif sentiment == \"neg\" : num_sentiment = 0\n",
        "\n",
        "                        # create single dataframe row\n",
        "                        dataframe_row = {\n",
        "                            \"file_id\": file_id,\n",
        "                            \"score\": score,\n",
        "                            \"sentiment\": num_sentiment,\n",
        "                            \"split\": split,\n",
        "                            \"text\": text\n",
        "                        }\n",
        "\n",
        "                        # print detailed info for the first file\n",
        "                        if debug:\n",
        "                            print(file_path)\n",
        "                            print(filename)\n",
        "                            print(file_id)\n",
        "                            print(text)\n",
        "                            print(score)\n",
        "                            print(sentiment)\n",
        "                            print(split)\n",
        "                            print(dataframe_row)\n",
        "                            debug = False\n",
        "                        dataframe_rows.append(dataframe_row)\n",
        "\n",
        "            except Exception as e:\n",
        "                print('Failed to process %s. Reason: %s' % (file_path, e))\n",
        "                sys.exit(0)\n",
        "\n",
        "folder = os.path.join(os.getcwd(), \"Datasets\", \"Dataframes\", dataset_name)\n",
        "if not os.path.exists(folder):\n",
        "    os.makedirs(folder)\n",
        "\n",
        "# transform the list of rows in a proper dataframe\n",
        "dataframe = pd.DataFrame(dataframe_rows)\n",
        "dataframe = dataframe[[\"file_id\",\n",
        "                       \"score\",\n",
        "                       \"sentiment\",\n",
        "                       \"split\",\n",
        "                       \"text\"]]\n",
        "dataframe_path = os.path.join(folder, dataset_name + \".pkl\")\n",
        "dataframe.to_pickle(dataframe_path)"
      ],
      "execution_count": 6,
      "outputs": [
        {
          "output_type": "stream",
          "text": [
            "/content/Datasets/Original/aclImdb/train/pos/5323_7.txt\n",
            "5323_7.txt\n",
            "5323\n",
            "There are a number of things that are not correct, although this is not too important since what happened to whom and when is still in dispute. The most blatant liberty with the facts I think is when they start to play at Bruno Koschmidder's Kaiserkeller, when in fact they played at the Indra and moved to the Kaiserkeller later.<br /><br />I agree with Semprinni20 that the film was biased in favour of Pete Best's version, but if he is the story consultant then I guess he calls the shots. I also agree with Semprinni that the recordings Pete Best plays on say the last word on the subject of why he was fired.<br /><br />Although the film is not such a lavish production as the later film \"Backbeat\", I prefer this film because it is more accurate, and because it has a better script with deeper characterisation.<br /><br />There is plenty in the film that is quite substantial - such as Brian Epstein trying to hide the fact that he has been \"queer-bashed,\" only to find out that the band knew he was Gay all along. Little touches like the band going into a café and ordering \"Corn-Flakes mit Milch.\" My favourite scene, which does have some bassis in fact, is where at an audition Stuart Sutcliffe has just bought his bass guitar but can't play it, so he stands with his back to the impresario and tries faking it, but gets caught. That's rock 'n' roll.<br /><br />Well worth watching.\n",
            "7\n",
            "pos\n",
            "train\n",
            "{'file_id': '5323', 'score': '7', 'sentiment': 1, 'split': 'train', 'text': 'There are a number of things that are not correct, although this is not too important since what happened to whom and when is still in dispute. The most blatant liberty with the facts I think is when they start to play at Bruno Koschmidder\\'s Kaiserkeller, when in fact they played at the Indra and moved to the Kaiserkeller later.<br /><br />I agree with Semprinni20 that the film was biased in favour of Pete Best\\'s version, but if he is the story consultant then I guess he calls the shots. I also agree with Semprinni that the recordings Pete Best plays on say the last word on the subject of why he was fired.<br /><br />Although the film is not such a lavish production as the later film \"Backbeat\", I prefer this film because it is more accurate, and because it has a better script with deeper characterisation.<br /><br />There is plenty in the film that is quite substantial - such as Brian Epstein trying to hide the fact that he has been \"queer-bashed,\" only to find out that the band knew he was Gay all along. Little touches like the band going into a café and ordering \"Corn-Flakes mit Milch.\" My favourite scene, which does have some bassis in fact, is where at an audition Stuart Sutcliffe has just bought his bass guitar but can\\'t play it, so he stands with his back to the impresario and tries faking it, but gets caught. That\\'s rock \\'n\\' roll.<br /><br />Well worth watching.'}\n"
          ],
          "name": "stdout"
        }
      ]
    },
    {
      "cell_type": "markdown",
      "metadata": {
        "id": "fH_BAvFKF76g"
      },
      "source": [
        "Little analysis of the dataframe"
      ]
    },
    {
      "cell_type": "code",
      "metadata": {
        "id": "GCs9IEO5F-Vt",
        "outputId": "3505c171-3128-44e1-c249-8e5a56d8647e",
        "colab": {
          "base_uri": "https://localhost:8080/",
          "height": 988
        }
      },
      "source": [
        "dataframe_path = os.path.join(os.getcwd(), \"Datasets\", \"Dataframes\", dataset_name, dataset_name + \".pkl\")\n",
        "df = pd.read_pickle(dataframe_path)\n",
        "\n",
        "print(\"Dataframe structure:\")\n",
        "print(df)\n",
        "print()\n",
        "\n",
        "\n",
        "print(\"Total rows %d\" % (len(df)))\n",
        "print()\n",
        "\n",
        "column = 'score'\n",
        "print(\"Distribution of scores: \")\n",
        "print(df[column].value_counts())\n",
        "print()\n",
        "\n",
        "column = 'sentiment'\n",
        "print(\"Distribution of sentiment: \")\n",
        "print(df[column].value_counts())\n",
        "print()\n",
        "\n",
        "\n",
        "for split in [\"train\", \"test\"]:\n",
        "    df1 = df.loc[df['split'] == split]\n",
        "    column = 'score'\n",
        "    print(\"Distribution of scores in %s: \" % (split))\n",
        "    print(df1[column].value_counts())\n",
        "    print()"
      ],
      "execution_count": 5,
      "outputs": [
        {
          "output_type": "stream",
          "text": [
            "Dataframe structure:\n",
            "      file_id score  ...  split                                               text\n",
            "0        5323     7  ...  train  There are a number of things that are not corr...\n",
            "1        7628     8  ...  train  This movie is one of those \"WOW!\" movies. Not ...\n",
            "2        4352    10  ...  train  I was looking through the movie listings in my...\n",
            "3        9525     8  ...  train  ROAD TO PERDITION can be summed up by Thomas N...\n",
            "4        4223     8  ...  train  The movie has a great written genre story. It ...\n",
            "...       ...   ...  ...    ...                                                ...\n",
            "49995    6577     1  ...   test  What is it with studios like Paramount that ha...\n",
            "49996     483     2  ...   test  \"Dolemite\" is the touching story of Dolemite (...\n",
            "49997    5862     1  ...   test  This is possibly the single worst film i have ...\n",
            "49998   10228     1  ...   test  HOW MANY MOVIES ARE THERE GOING TO BE IN WHICH...\n",
            "49999   12355     3  ...   test  Gotta add a comment to this one!!!<br /><br />...\n",
            "\n",
            "[50000 rows x 5 columns]\n",
            "\n",
            "Total rows 50000\n",
            "\n",
            "Distribution of scores: \n",
            "1     10122\n",
            "10     9731\n",
            "8      5859\n",
            "4      5331\n",
            "3      4961\n",
            "7      4803\n",
            "9      4607\n",
            "2      4586\n",
            "Name: score, dtype: int64\n",
            "\n",
            "Distribution of sentiment: \n",
            "1    25000\n",
            "0    25000\n",
            "Name: sentiment, dtype: int64\n",
            "\n",
            "Distribution of scores in train: \n",
            "1     5100\n",
            "10    4732\n",
            "8     3009\n",
            "4     2696\n",
            "7     2496\n",
            "3     2420\n",
            "2     2284\n",
            "9     2263\n",
            "Name: score, dtype: int64\n",
            "\n",
            "Distribution of scores in test: \n",
            "1     5022\n",
            "10    4999\n",
            "8     2850\n",
            "4     2635\n",
            "3     2541\n",
            "9     2344\n",
            "7     2307\n",
            "2     2302\n",
            "Name: score, dtype: int64\n",
            "\n"
          ],
          "name": "stdout"
        }
      ]
    },
    {
      "cell_type": "markdown",
      "metadata": {
        "id": "mzoExTTDxqwz"
      },
      "source": [
        "A little game: let's create a word cloud for the two sentiments and see if there is something interesting."
      ]
    },
    {
      "cell_type": "code",
      "metadata": {
        "id": "m6FNPW5lx4R5"
      },
      "source": [
        "from wordcloud import WordCloud, STOPWORDS\n",
        "import matplotlib.pyplot as plt\n",
        "\n",
        "dataframe_path = os.path.join(os.getcwd(), \"Datasets\", \"Dataframes\", dataset_name, dataset_name + \".pkl\")\n",
        "df = pd.read_pickle(dataframe_path)\n",
        "\n",
        "positive_corpus = df.loc[df['sentiment'] == 1]\n",
        "positive_corpus = positive_corpus[\"text\"].tolist()\n",
        "\n",
        "negative_corpus = df.loc[df['sentiment'] == 0]\n",
        "negative_corpus = negative_corpus[\"text\"].tolist()\n",
        "\n",
        "print(\"Negative:\")\n",
        "wordcloud1 = WordCloud(width = 3000, height = 2000, collocations=False, stopwords = STOPWORDS).generate(\" \".join(negative_corpus))\n",
        "plt.figure(figsize=(10, 10))\n",
        "plt.imshow(wordcloud1) \n",
        "plt.axis(\"off\");\n",
        "plt.show()\n",
        "\n",
        "print(\"Positive:\")\n",
        "wordcloud2 = WordCloud(width = 3000, height = 2000, collocations=False, stopwords = STOPWORDS).generate(\" \".join(positive_corpus))\n",
        "plt.figure(figsize=(10, 10))\n",
        "plt.imshow(wordcloud2) \n",
        "plt.axis(\"off\");\n",
        "plt.show()"
      ],
      "execution_count": null,
      "outputs": []
    },
    {
      "cell_type": "markdown",
      "metadata": {
        "id": "vFhnc_g4y00b"
      },
      "source": [
        "Is there something weird about these words? You can repeat the process multiple times to test your observations.\n",
        "Is there something that will influence our approach? Think about it..."
      ]
    },
    {
      "cell_type": "markdown",
      "metadata": {
        "id": "APy7Yb83H5Is"
      },
      "source": [
        "## Features extraction\n",
        "Let's tackle the Sentiment Analysis task.\n",
        "\n",
        "The scikit-learn library offers *TfidfVectorizer*, a class that performs both tokenization and the creation of the BoW representation (as tf-idf) of a corpus.\n",
        "\n",
        "The class has plenty of options: it can be used also to count n-grams, excluding stop-words, and cutting off most and/or less frequent terms."
      ]
    },
    {
      "cell_type": "code",
      "metadata": {
        "id": "ZsuUwTjqH72Q"
      },
      "source": [
        "from sklearn.feature_extraction.text import  TfidfVectorizer\n",
        "\n",
        "dataframe_path = os.path.join(os.getcwd(), \"Datasets\", \"Dataframes\", dataset_name, dataset_name + \".pkl\")\n",
        "df = pd.read_pickle(dataframe_path)\n",
        "\n",
        "# select only the training sentences\n",
        "df_train = df.loc[df['split'] == \"train\"]\n",
        "\n",
        "train_corpus = df_train['text'].tolist()\n",
        "\n",
        "print(\"Processing corpus\\n\")\n",
        "vectorizer =  TfidfVectorizer()\n",
        "# tokenization and creation of Bag of Words representation\n",
        "X_train = vectorizer.fit_transform(train_corpus)\n",
        "\n",
        "print(\"Shape of the matrix: (data points, features)\")\n",
        "print(X_train.shape)\n",
        "print()\n",
        "\n",
        "# targets for the training set\n",
        "Y_train = np.array(df_train['sentiment'].tolist())\n",
        "\n",
        "print(X_train[0:1])"
      ],
      "execution_count": null,
      "outputs": []
    },
    {
      "cell_type": "markdown",
      "metadata": {
        "id": "PajnwZslUg-p"
      },
      "source": [
        "Fitting on a corpus, the vectorizer creates an internal vocabulary that will be used to create the BoW representation.\n",
        "The vocabulary is a dictionary that associates to each word a corresponding column in the feature matrix.\n",
        "\n",
        "Do not try to print the whole vocabulary: it is quite large ;)"
      ]
    },
    {
      "cell_type": "code",
      "metadata": {
        "id": "7fMTG5wqUfhL"
      },
      "source": [
        "print(len(vectorizer.vocabulary_))"
      ],
      "execution_count": null,
      "outputs": []
    },
    {
      "cell_type": "markdown",
      "metadata": {
        "id": "g2KIWtBzMYef"
      },
      "source": [
        "Since the vocabulary will be quite big, by default X will be a *sparse* matrix (see scipy.sparse for more info)."
      ]
    },
    {
      "cell_type": "code",
      "metadata": {
        "id": "CfcEWJaeNLWc"
      },
      "source": [
        "print(X_train)"
      ],
      "execution_count": null,
      "outputs": []
    },
    {
      "cell_type": "markdown",
      "metadata": {
        "id": "kr38ssKTNMeQ"
      },
      "source": [
        "All the scipy tools are compatible with sparse matrices, but if you somehow need the traditional representation it is possible to convert it with the following command. Keep in mind that if the vocabulary and/or the dataset are large, the resulting array will be quite large, possibly occupying all the RAM.\n",
        "\n",
        "\n",
        "```\n",
        "X.toarray()\n",
        "```\n",
        "\n"
      ]
    },
    {
      "cell_type": "markdown",
      "metadata": {
        "id": "evLd40iCWZ8q"
      },
      "source": [
        "It is then possible to parse the test split likewise. Remember to use the transform function and not the fit_transform when working on the test set."
      ]
    },
    {
      "cell_type": "code",
      "metadata": {
        "id": "jNz23Ep2Y3iB"
      },
      "source": [
        "# select only the test sentences\n",
        "df_test = df.loc[df['split'] == \"test\"]\n",
        "test_corpus = df_test['text'].tolist()\n",
        "X_test = vectorizer.transform(test_corpus)\n",
        "Y_test = np.array(df_test['sentiment'].tolist())"
      ],
      "execution_count": null,
      "outputs": []
    },
    {
      "cell_type": "markdown",
      "metadata": {
        "id": "Xe5NPH5Gb5FI"
      },
      "source": [
        "## Training and Testing\n",
        "It is now possible to choose one of the many models available in the sci-kit learn library, train it and test it."
      ]
    },
    {
      "cell_type": "code",
      "metadata": {
        "id": "lTnd0-X2b3ke"
      },
      "source": [
        "# training and testing\n",
        "from sklearn.svm import LinearSVC\n",
        "\n",
        "classifier = LinearSVC()\n",
        "classifier.fit(X_train, Y_train)\n",
        "Y_pred_train = classifier.predict(X_train)\n",
        "Y_pred_test = classifier.predict(X_test)"
      ],
      "execution_count": null,
      "outputs": []
    },
    {
      "cell_type": "code",
      "metadata": {
        "id": "vG4oUWA0k3yS",
        "outputId": "e964889b-71d3-4c27-b0b4-70898b2f962b"
      },
      "source": [
        "# print results\n",
        "from sklearn.metrics import classification_report\n",
        "\n",
        "report_train = classification_report(Y_train, Y_pred_train, target_names=[\"neg\", \"pos\"])\n",
        "report_test = classification_report(Y_test, Y_pred_test, target_names=[\"neg\", \"pos\"])\n",
        "print(\"Train\")\n",
        "print(report_train)\n",
        "print(\"Test\")\n",
        "print(report_test)"
      ],
      "execution_count": null,
      "outputs": [
        {
          "output_type": "stream",
          "text": [
            "Train\n",
            "              precision    recall  f1-score   support\n",
            "\n",
            "         neg       0.99      0.99      0.99     12500\n",
            "         pos       0.99      0.99      0.99     12500\n",
            "\n",
            "    accuracy                           0.99     25000\n",
            "   macro avg       0.99      0.99      0.99     25000\n",
            "weighted avg       0.99      0.99      0.99     25000\n",
            "\n",
            "Test\n",
            "              precision    recall  f1-score   support\n",
            "\n",
            "         neg       0.87      0.89      0.88     12500\n",
            "         pos       0.89      0.87      0.88     12500\n",
            "\n",
            "    accuracy                           0.88     25000\n",
            "   macro avg       0.88      0.88      0.88     25000\n",
            "weighted avg       0.88      0.88      0.88     25000\n",
            "\n"
          ],
          "name": "stdout"
        }
      ]
    },
    {
      "cell_type": "code",
      "metadata": {
        "id": "OgtGYwjncFpn",
        "scrolled": false
      },
      "source": [
        "# more advanced tools\n",
        "# plot precision/recall curve and confusion matrix\n",
        "from sklearn.metrics import precision_recall_curve, plot_precision_recall_curve, plot_confusion_matrix\n",
        "import matplotlib.pyplot as plt\n",
        "\n",
        "disp = plot_precision_recall_curve(classifier, X_test, Y_test)\n",
        "plot_confusion_matrix(classifier, X_test, Y_test, normalize='true', cmap=plt.cm.Blues, values_format=\".2f\")"
      ],
      "execution_count": null,
      "outputs": []
    },
    {
      "cell_type": "markdown",
      "metadata": {
        "id": "HlY-i4Yug6Dx"
      },
      "source": [
        "# Now...do it yourself!\n",
        "\n",
        "Now, rather then sentiment classification, try to address the task of score prediction on the same dataset: based on the text of the reviews, try to predict the score assigned by the reviewer."
      ]
    },
    {
      "cell_type": "markdown",
      "metadata": {
        "id": "lMaK5y9OiTj4"
      },
      "source": [
        "## First part\n",
        "As first part, experiment with the options of the vectorizer to improve the classification using logistic regression. You are required to look at the documentation of the functions.\n",
        "You can also use or add other pre-processing step to the text if you feel like it, you are not obliged to use TfidfVectorizer.\n",
        "\n",
        "Obviously, you will need to use the variable names declared in the first block.\n",
        "\n",
        "\n",
        "Some notes:\n",
        "* In the multi-class classification, the most important measures are F1s (especially macro and micro), since it is a complex measure given that considers more aspects than the simple accuracy.\n",
        "* Between the problem as regression and the problem as multi-class classification, the priority is the problem as regression. Indeed, the classification perspective does penalize each error in the same way, while the regression perspective considers the difference between the predicted value and the real value (prediction 8 for real value 2 is way worse than prediction 3 for value 2). The classification perspective is a tool to understand the problem better and experiment. \n",
        "* There are no threshold values that you have to reach with the measurements to obtain a certain score. The score will be assigned considering the results of the class and the efforts we will see in the solution.\n",
        "* In each code section, you have to deliver a single approach, but if you have observations or interesting alternative approaches, you can mention them in the .txt file"
      ]
    },
    {
      "cell_type": "code",
      "metadata": {
        "id": "xtraxB8Chf9X",
        "outputId": "a75831ab-09d9-414c-f874-e3a8d6377ff4",
        "colab": {
          "base_uri": "https://localhost:8080/",
          "height": 87
        }
      },
      "source": [
        "# write your code here\n",
        "\n",
        "vectorizer =  TfidfVectorizer()\n",
        "###################\n",
        "# Part of Training\n",
        "###################\n",
        "print(\"Fitting and transforming the traing corpus\\n\")\n",
        "df_train = df.loc[df['split'] == \"train\"]\n",
        "train_corpus = df_train['text'].tolist()\n",
        "# tokenization and creation of Bag of Words representation using the train corpus\n",
        "X_train = vectorizer.fit_transform(train_corpus)\n",
        "# Using the Score as the target \n",
        "Y_train = np.array(df_train['score'].tolist(), dtype=np.int64)\n",
        "print(\"End of the training\\n\")\n",
        "###############\n",
        "# Part of test\n",
        "###############\n",
        "df_test = df.loc[df['split'] == \"test\"]\n",
        "test_corpus = df_test['text'].tolist()\n",
        "X_test = vectorizer.transform(test_corpus)\n",
        "# Using the Score as the target\n",
        "Y_test = np.array(df_test['score'].tolist(), dtype=np.int64)\n",
        "\n"
      ],
      "execution_count": 10,
      "outputs": [
        {
          "output_type": "stream",
          "text": [
            "Fitting and transforming the traing corpus\n",
            "\n",
            "End of the training\n",
            "\n"
          ],
          "name": "stdout"
        }
      ]
    },
    {
      "cell_type": "markdown",
      "metadata": {
        "id": "s5_WXt_P6MFN"
      },
      "source": [
        "Now run the code below to train your classifier:"
      ]
    },
    {
      "cell_type": "code",
      "metadata": {
        "id": "BIN03hrxizjj"
      },
      "source": [
        "####################################################################\n",
        "###################### DO NOT MODIFY THIS PART #####################\n",
        "from sklearn.linear_model import LogisticRegression\n",
        "\n",
        "classifier = LogisticRegression(max_iter=1000)\n",
        "classifier.fit(X_train, Y_train)\n",
        "Y_pred_test = classifier.predict(X_test)\n",
        "Y_pred_test_class = np.around(Y_pred_test)\n",
        "\n",
        "####################################################################"
      ],
      "execution_count": 11,
      "outputs": []
    },
    {
      "cell_type": "markdown",
      "metadata": {
        "id": "7WgN0DZ0ofDf"
      },
      "source": [
        "Now test your results running the code below:"
      ]
    },
    {
      "cell_type": "code",
      "metadata": {
        "id": "Q_S4aZW4k08D",
        "outputId": "46e45f9e-abe4-4ad5-e996-230c0c7b964b",
        "colab": {
          "base_uri": "https://localhost:8080/",
          "height": 782
        }
      },
      "source": [
        "####################################################################\n",
        "###################### DO NOT MODIFY THIS PART #####################\n",
        "from sklearn.metrics import r2_score, mean_absolute_error, mean_squared_error\n",
        "from sklearn.metrics import classification_report, confusion_matrix, plot_confusion_matrix\n",
        "import matplotlib.pyplot as plt\n",
        "\n",
        "\n",
        "# task as regression\n",
        "\n",
        "print(\"R2 score %f\" % (r2_score(Y_test, Y_pred_test)))\n",
        "print(\"MAE %f\" % (mean_absolute_error(Y_test, Y_pred_test)))\n",
        "print(\"MSE %f\" % (mean_squared_error(Y_test, Y_pred_test)))\n",
        "print()\n",
        "\n",
        "# task as multiclass classification\n",
        "\n",
        "report = classification_report(Y_test.astype('int'), Y_pred_test_class.astype('int'), labels=[1,2,3,4,7,8,9,10])\n",
        "print(report)\n",
        "\n",
        "confusion_matrix = confusion_matrix(Y_test.astype('int'), Y_pred_test_class.astype('int'), labels=[1,2,3,4,7,8,9,10])\n",
        "print(confusion_matrix)\n",
        "print()\n",
        "\n",
        "# fancy confusion matrix\n",
        "plot_confusion_matrix(classifier, X_test, Y_test, normalize='true', cmap=plt.cm.Blues, values_format=\".2f\")\n",
        "\n",
        "####################################################################"
      ],
      "execution_count": 13,
      "outputs": [
        {
          "output_type": "stream",
          "text": [
            "R2 score 0.484339\n",
            "MAE 1.468520\n",
            "MSE 6.283800\n",
            "\n",
            "              precision    recall  f1-score   support\n",
            "\n",
            "           1       0.53      0.84      0.65      5022\n",
            "           2       0.21      0.05      0.08      2302\n",
            "           3       0.27      0.12      0.17      2541\n",
            "           4       0.32      0.34      0.33      2635\n",
            "           7       0.32      0.24      0.27      2307\n",
            "           8       0.27      0.25      0.26      2850\n",
            "           9       0.23      0.04      0.07      2344\n",
            "          10       0.48      0.77      0.59      4999\n",
            "\n",
            "    accuracy                           0.43     25000\n",
            "   macro avg       0.33      0.33      0.30     25000\n",
            "weighted avg       0.37      0.43      0.37     25000\n",
            "\n",
            "[[4201  125  142  236   33   52    6  227]\n",
            " [1415  120  202  327   45   36    8  149]\n",
            " [1028  143  303  638  115   93   12  209]\n",
            " [ 715  110  278  891  221  181   20  219]\n",
            " [ 128   24   72  291  552  566   57  617]\n",
            " [ 141   11   47  173  430  699   80 1269]\n",
            " [ 113    8   28  102  155  470   89 1379]\n",
            " [ 255   18   40   89  171  476  119 3831]]\n",
            "\n"
          ],
          "name": "stdout"
        },
        {
          "output_type": "execute_result",
          "data": {
            "text/plain": [
              "<sklearn.metrics._plot.confusion_matrix.ConfusionMatrixDisplay at 0x7f677c18f5c0>"
            ]
          },
          "metadata": {
            "tags": []
          },
          "execution_count": 13
        },
        {
          "output_type": "display_data",
          "data": {
            "image/png": "[encoded data removed]",
            "text/plain": [
              "<Figure size 432x288 with 2 Axes>"
            ]
          },
          "metadata": {
            "tags": [],
            "needs_background": "light"
          }
        }
      ]
    },
    {
      "cell_type": "markdown",
      "metadata": {
        "id": "MKKVP4aPoogk"
      },
      "source": [
        "## Second part\n",
        "Now experiment both with the processing (the vectorizer) and the classifier to obtain the best result."
      ]
    },
    {
      "cell_type": "code",
      "metadata": {
        "id": "fXhwZl4Qoyi5",
        "outputId": "6bf12742-8e30-412f-f665-e0d66360febc",
        "colab": {
          "base_uri": "https://localhost:8080/",
          "height": 803
        }
      },
      "source": [
        "# write your code here\n",
        "\n",
        "import re\n",
        "from sklearn.svm import LinearSVC\n",
        "from sklearn.model_selection import GridSearchCV\n",
        "from sklearn.model_selection import train_test_split\n",
        "from sklearn.metrics import accuracy_score\n",
        "from nltk.stem import PorterStemmer \n",
        "from nltk.tokenize import word_tokenize \n",
        "from sklearn import preprocessing\n",
        "from nltk.corpus import stopwords\n",
        "from sklearn.feature_extraction.text import  TfidfVectorizer\n",
        "from nltk.stem.snowball import SnowballStemmer\n",
        "from nltk.tokenize import RegexpTokenizer\n",
        "from nltk.stem import WordNetLemmatizer \n",
        "import nltk\n",
        "nltk.download('stopwords')\n",
        "nltk.download('punkt')\n",
        "nltk.download('wordnet')\n",
        "  \n",
        "dataframe_path = os.path.join(os.getcwd(), \"Datasets\", \"Dataframes\", dataset_name, dataset_name + \".pkl\")\n",
        "df = pd.read_pickle(dataframe_path)\n",
        "df_train = df.loc[df['split'] == \"train\"]\n",
        "train_corpus = df_train['text'].tolist()\n",
        "\n",
        "# Checking the distribution of training data\n",
        "train = df_train[['text', 'score']]\n",
        "train['score'].hist()\n",
        "train.head()\n",
        "print(\"Distribution of scores in Train (Before): \")\n",
        "print(df_train['score'].value_counts())\n",
        "\n",
        "# Balancing the classes considering the class with minimun samples\n",
        "Samplesize = 2250\n",
        "df_train_bal = train.groupby('score', as_index=False).apply(lambda array: array.loc[np.random.choice(array.index, Samplesize, False),:])\n",
        "df_train_bal['score'].hist()\n",
        "print(\"Distribution of scores in Train (After DownSampling): \")\n",
        "print(df_train_bal['score'].value_counts())\n",
        "\n",
        "###########################\n",
        "# Preprocessing data\n",
        "###########################\n",
        "\n",
        "# Lemmatization and tokenization\n",
        "def lemma_tokenize(text):\n",
        "    lemmatizer = WordNetLemmatizer()\n",
        "    tokens = word_tokenize(text)\n",
        "    # Deleting StopWords based on the nltk.corpus\n",
        "    #filtered_text = [] \n",
        "    #stop_words = set(stopwords.words('english')) \n",
        "    #for w in tokens: \n",
        "    #    if w not in stop_words: \n",
        "    #        filtered_text.append(w)   \n",
        "    # Applying stemming                     \n",
        "    #return filtered_text\n",
        "    #stemmer = SnowballStemmer(\"english\", ignore_stopwords=False)\n",
        "    #return [stemmer.stem(t) for t in filtered_text] \n",
        "    return [lemmatizer.lemmatize(t) for t in tokens] \n",
        "\n",
        "# Preprocess the text to delete characters that maybe are not useful\n",
        "def preprocess(text):\n",
        "    text = re.sub('<br\\s/>', ' ', text) \n",
        "    # Deleting characters repetead  mroe than 3 times\n",
        "    text = re.sub('([a-z])\\\\1\\\\1+', ' ', text) \n",
        "    # Deleting special characters, numbers and blank spaces\n",
        "    #text = re.sub('[^a-zA-Z]', ' ', text) \n",
        "    # Deleting remaining characters ( len = 1)\n",
        "    #text = re.sub(\"\\\\b\\\\w{1,2}\\\\b\", ' ', text)\n",
        "    return text\n",
        "\n",
        "################################\n",
        "#   VECTORIZER\n",
        "################################\n",
        "vectorizer =  TfidfVectorizer( tokenizer=lemma_tokenize,\n",
        "                              ngram_range=(1,2), min_df=5, sublinear_tf= True)\n",
        "#################################\n",
        "# EXtracting Training data\n",
        "#################################\n",
        "\n",
        "print(\"Fitting and transforming the traing corpus\\n\")\n",
        "train_corpus = df_train_bal['text'].tolist()\n",
        "print(\"Working with: {} samples\".format(len(train_corpus))) \n",
        "X_train = vectorizer.fit_transform(train_corpus)\n",
        "#X_train = preprocessing.normalize(X_train, norm='l2')\n",
        "Y_train = np.array(df_train_bal['score'].tolist(), dtype=np.int64)\n",
        "print(\"End of the training\\n\")\n",
        "\n",
        "#################################\n",
        "# EXtracting Testing data\n",
        "#################################\n",
        "df_test = df.loc[df['split'] == \"test\"]\n",
        "test_corpus = df_test['text'].tolist()\n",
        "X_test = vectorizer.transform(test_corpus)\n",
        "Y_test = np.array(df_test['score'].tolist(), dtype=np.int64)\n",
        "\n",
        "###############\n",
        "# Clasifier SVC\n",
        "###############\n",
        "\n",
        "#Hyper tuning parameters\n",
        "# Uncomment to run thr Grid Search\n",
        "\"\"\"\n",
        "parameters = {'intercept_scaling':[0.001, 0.1, 1, 5, 10], 'C': [0.001, 0.01, 0.1, 1, 10]}\n",
        "grid = GridSearchCV(LinearSVC(max_iter=1000), parameters, cv=5)\n",
        "grid.fit(X_train, Y_train)\n",
        "print(\"Best cross-validation score: {:.2f}\".format(grid.best_score_))\n",
        "print(\"Best parameters: \", grid.best_params_)\n",
        "print(\"Best estimator: \", grid.best_estimator_)\n",
        "\"\"\"\n",
        "    \n",
        "# creating the classifier with the parameters given above\n",
        "classifier =  LinearSVC(C=0.1, class_weight=None, dual=True, fit_intercept=True,\n",
        "          intercept_scaling=1, loss='squared_hinge', max_iter=1000,\n",
        "          multi_class='ovr', penalty='l2', random_state=None, tol=0.0001,\n",
        "          verbose=0)"
      ],
      "execution_count": 7,
      "outputs": [
        {
          "output_type": "stream",
          "text": [
            "[nltk_data] Downloading package stopwords to /root/nltk_data...\n",
            "[nltk_data]   Package stopwords is already up-to-date!\n",
            "[nltk_data] Downloading package punkt to /root/nltk_data...\n",
            "[nltk_data]   Package punkt is already up-to-date!\n",
            "[nltk_data] Downloading package wordnet to /root/nltk_data...\n",
            "[nltk_data]   Package wordnet is already up-to-date!\n",
            "Distribution of scores in Train (Before): \n",
            "1     5100\n",
            "10    4732\n",
            "8     3009\n",
            "4     2696\n",
            "7     2496\n",
            "3     2420\n",
            "2     2284\n",
            "9     2263\n",
            "Name: score, dtype: int64\n",
            "Distribution of scores in Train (After DownSampling): \n",
            "3     2250\n",
            "4     2250\n",
            "9     2250\n",
            "8     2250\n",
            "7     2250\n",
            "1     2250\n",
            "10    2250\n",
            "2     2250\n",
            "Name: score, dtype: int64\n",
            "Fitting and transforming the traing corpus\n",
            "\n",
            "Working with: 18000 samples\n",
            "End of the training\n",
            "\n"
          ],
          "name": "stdout"
        },
        {
          "output_type": "display_data",
          "data": {
            "image/png": "[encoded data removed]",
            "text/plain": [
              "<Figure size 432x288 with 1 Axes>"
            ]
          },
          "metadata": {
            "tags": [],
            "needs_background": "light"
          }
        }
      ]
    },
    {
      "cell_type": "markdown",
      "metadata": {
        "id": "N6I29DPl6dRr"
      },
      "source": [
        "Run the code below to train your classifier, then test it with the block that follows."
      ]
    },
    {
      "cell_type": "code",
      "metadata": {
        "id": "WCebPdgYhlCf"
      },
      "source": [
        "####################################################################\n",
        "###################### DO NOT MODIFY THIS PART #####################\n",
        "classifier.fit(X_train, Y_train)\n",
        "\n",
        "Y_pred_train = classifier.predict(X_train)\n",
        "Y_pred_test = classifier.predict(X_test)\n",
        "Y_pred_test_class = np.around(Y_pred_test)\n",
        "####################################################################"
      ],
      "execution_count": 8,
      "outputs": []
    },
    {
      "cell_type": "code",
      "metadata": {
        "id": "cE8mniZso92A",
        "outputId": "9b381321-d6d4-4934-a7a8-bf29042043df",
        "colab": {
          "base_uri": "https://localhost:8080/",
          "height": 786
        }
      },
      "source": [
        "####################################################################\n",
        "###################### DO NOT MODIFY THIS PART #####################\n",
        "from sklearn.metrics import r2_score, mean_absolute_error, mean_squared_error\n",
        "from sklearn.metrics import classification_report, confusion_matrix, plot_confusion_matrix\n",
        "import matplotlib.pyplot as plt\n",
        "\n",
        "\n",
        "# task as regression\n",
        "\n",
        "print(\"R2 score %f\" % (r2_score(Y_test, Y_pred_test)))\n",
        "print(\"MAE %f\" % (mean_absolute_error(Y_test, Y_pred_test)))\n",
        "print(\"MSE %f\" % (mean_squared_error(Y_test, Y_pred_test)))\n",
        "print()\n",
        "\n",
        "# task as multiclass classification\n",
        "\n",
        "report = classification_report(Y_test.astype('int'), Y_pred_test_class.astype('int'), labels=[1,2,3,4,7,8,9,10])\n",
        "print(report)\n",
        "\n",
        "confusion_matrix = confusion_matrix(Y_test.astype('int'), Y_pred_test_class.astype('int'), labels=[1,2,3,4,7,8,9,10])\n",
        "print(confusion_matrix)\n",
        "print()\n",
        "\n",
        "# fancy confusion matrix\n",
        "plot_confusion_matrix(classifier, X_test, Y_test, normalize='true', cmap=plt.cm.Blues, values_format=\".2f\")\n",
        "####################################################################"
      ],
      "execution_count": 9,
      "outputs": [
        {
          "output_type": "stream",
          "text": [
            "R2 score 0.577263\n",
            "MAE 1.294640\n",
            "MSE 5.151440\n",
            "\n",
            "              precision    recall  f1-score   support\n",
            "\n",
            "           1       0.63      0.70      0.66      5022\n",
            "           2       0.27      0.26      0.26      2302\n",
            "           3       0.32      0.25      0.28      2541\n",
            "           4       0.38      0.37      0.37      2635\n",
            "           7       0.35      0.42      0.38      2307\n",
            "           8       0.33      0.24      0.28      2850\n",
            "           9       0.25      0.27      0.26      2344\n",
            "          10       0.58      0.61      0.59      4999\n",
            "\n",
            "    accuracy                           0.44     25000\n",
            "   macro avg       0.39      0.39      0.39     25000\n",
            "weighted avg       0.43      0.44      0.43     25000\n",
            "\n",
            "[[3523  632  317  232   61   42   59  156]\n",
            " [ 885  588  334  293   65   27   33   77]\n",
            " [ 554  412  643  574  160   53   47   98]\n",
            " [ 337  295  429  969  312  112   72  109]\n",
            " [  59   66   94  223  975  361  246  283]\n",
            " [  69   44   84  150  610  676  565  652]\n",
            " [  67   37   49   68  302  351  631  839]\n",
            " [ 135   83   70   75  309  409  870 3048]]\n",
            "\n"
          ],
          "name": "stdout"
        },
        {
          "output_type": "execute_result",
          "data": {
            "text/plain": [
              "<sklearn.metrics._plot.confusion_matrix.ConfusionMatrixDisplay at 0x7f79e348c240>"
            ]
          },
          "metadata": {
            "tags": []
          },
          "execution_count": 9
        },
        {
          "output_type": "display_data",
          "data": {
            "image/png": "[encoded data removed]",
            "text/plain": [
              "<Figure size 432x288 with 2 Axes>"
            ]
          },
          "metadata": {
            "tags": [],
            "needs_background": "light"
          }
        }
      ]
    },
    {
      "cell_type": "markdown",
      "metadata": {
        "id": "UrTg8j0UzTWD"
      },
      "source": [
        "Credits:\n",
        "Andrea Galassi,\n",
        "Federico Ruggeri,\n",
        "Paolo Torroni\n",
        "(Oct 2020)"
      ]
    }
  ]
}